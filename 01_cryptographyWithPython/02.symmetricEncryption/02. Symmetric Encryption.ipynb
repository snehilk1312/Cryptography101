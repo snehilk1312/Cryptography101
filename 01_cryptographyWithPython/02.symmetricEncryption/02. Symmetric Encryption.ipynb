{
 "cells": [
  {
   "cell_type": "markdown",
   "metadata": {},
   "source": [
    "# Modern Cryptography\n",
    "\n",
    "Generally speaking there are two *kinds* of encryption: symmetric and asymmetric.\n",
    "\n",
    "In symmetric encryption, the parties involved share the ***same*** key.\n",
    "\n",
    "In asymmetric encryption, the parties use ***different*** keys, that are mathematically ***related*** to each other.\n",
    "\n",
    "<img src=\"include/sym_vs_asym.png\" width=\"750\">"
   ]
  },
  {
   "cell_type": "markdown",
   "metadata": {},
   "source": [
    "## Symmetric Encryption\n",
    "\n",
    "In the following, we look at symmetric encryption algorithms. In symmetric crypto, we use the same key for encryption and decryption. **Therefore, the two parties need to establish a secret key between them.** Symmetric encryption can be up to 1000 times faster than asymmetric encryption. Given the support of some crypto algorithm in the CPU and at hardware level, even faster."
   ]
  },
  {
   "cell_type": "markdown",
   "metadata": {},
   "source": [
    "## *<font color=\" #6495ED\">Exercise</font>*\n",
    "\n",
    " - How should we share this secret key? securely, of course!"
   ]
  },
  {
   "cell_type": "markdown",
   "metadata": {},
   "source": [
    "### Advanced Encryption Algorithm (AES)\n",
    "\n",
    "AES is based on Rijndael encryption algorithm, designed by Joan Daemen and Vincent Rijmen. It was one of the algorithms submitted to U.S. National Institute of Standards and Technology (NIST) to replace DES and 3DES. It was published in 1998 and accepted and standardized in 2001.\n",
    "\n",
    " * AES supports key sizes of 128/192/256 bits\n",
    " * Block size: 128 bit\n",
    " * It's iterative rather than Feistel cipher\n",
    " * Treats data in 4 groups of 4 bytes\n",
    " * Operates on an entire block in every round\n",
    " * Resistant against known attacks\n",
    " * Speed and code compactness on many CPUs\n",
    " * Rijndael block and key size vary between 128, 192, 256\n",
    " * However, in AES block size in 128\n",
    " * Number of rounds a function of key size\n",
    "  * 128 bits     10 rounds\n",
    "  * 192 bits     12 rounds\n",
    "  * 256 bits     14 rounds\n",
    "\n",
    " * Today most implementations use the CPU support (Intel AES-NI)"
   ]
  },
  {
   "cell_type": "markdown",
   "metadata": {},
   "source": [
    "### Block cipher mode of operation\n",
    "\n",
    "To encrypt messages of arbitrary size with block ciphers, we use the following algorithms, called the modes of operation. They define how to encrypt each block of the plaintext to produce the corresponding cipher text block. Some of these are completely insecure (ECB) and should not be used.\n",
    "\n",
    " * Electronic Codebook (ECB)\n",
    " * Cipher Block Chaining (CBC)\n",
    " * Counter (CTR)\n",
    " \n",
    " \n",
    "### Electronic Codebook (ECB)\n",
    "\n",
    "<img src=\"include/ECB_enc.png\">\n",
    "<img src=\"include/ECB_dec.png\">\n",
    "\n",
    "\n",
    "\n",
    "### Cipher Block Chaining (CBC)\n",
    "\n",
    "<img src=\"include/CBC_enc.png\">\n",
    "<img src=\"include/CBC_dec.png\">\n",
    "\n",
    "\n",
    "\n",
    "### Counter (CTR)\n",
    "\n",
    "<img src=\"include/CTR_enc.png\">\n",
    "<img src=\"include/CTR_dec.png\">"
   ]
  },
  {
   "cell_type": "code",
   "execution_count": 1,
   "metadata": {},
   "outputs": [],
   "source": [
    "import os\n",
    "from cryptography.hazmat.primitives.ciphers import Cipher, algorithms, modes\n",
    "from cryptography.hazmat.backends import default_backend\n",
    "key = os.urandom(16) # in bytes, 128 bits\n",
    "iv = os.urandom(16)"
   ]
  },
  {
   "cell_type": "code",
   "execution_count": 2,
   "metadata": {},
   "outputs": [],
   "source": [
    "# ECB Mode, we only need a key\n",
    "### *** DO NOT USE ECB. IT IS INSECURE *** ###\n",
    "\n",
    "cipher = Cipher(algorithms.AES(key), modes.ECB(), backend=default_backend())\n",
    "encryptor = cipher.encryptor()\n",
    "# note that we don't need padding here, since len(\"PyCon 2017 Cypto\") = 16\n",
    "cipher_text = encryptor.update(b\"PyCon 2017 Cypto\") + encryptor.finalize()"
   ]
  },
  {
   "cell_type": "code",
   "execution_count": 3,
   "metadata": {},
   "outputs": [
    {
     "data": {
      "text/plain": [
       "b'B\\x18\\x12\\xf4\\xfa\\xf7\\x11\\x86!\\xee{\\xc2i\\xcb\\xc5\\xef'"
      ]
     },
     "execution_count": 3,
     "metadata": {},
     "output_type": "execute_result"
    }
   ],
   "source": [
    "cipher_text"
   ]
  },
  {
   "cell_type": "code",
   "execution_count": 4,
   "metadata": {},
   "outputs": [
    {
     "name": "stdout",
     "output_type": "stream",
     "text": [
      "16\n"
     ]
    }
   ],
   "source": [
    "print (len(cipher_text))"
   ]
  },
  {
   "cell_type": "code",
   "execution_count": 5,
   "metadata": {},
   "outputs": [
    {
     "data": {
      "text/plain": [
       "b'PyCon 2017 Cypto'"
      ]
     },
     "execution_count": 5,
     "metadata": {},
     "output_type": "execute_result"
    }
   ],
   "source": [
    "decryptor = cipher.decryptor()\n",
    "decryptor.update(cipher_text) + decryptor.finalize()"
   ]
  },
  {
   "cell_type": "code",
   "execution_count": 6,
   "metadata": {},
   "outputs": [],
   "source": [
    "# CBC Mode, we also need an IV\n",
    "cipher = Cipher(algorithms.AES(key), modes.CBC(iv), backend=default_backend())\n",
    "encryptor = cipher.encryptor()\n",
    "# note that we don't need padding here, since len(\"PyCon 2017 Cypto\") = 16\n",
    "cipher_text = encryptor.update(b\"PyCon 2017 Cypto\") + encryptor.finalize()"
   ]
  },
  {
   "cell_type": "code",
   "execution_count": 7,
   "metadata": {},
   "outputs": [
    {
     "data": {
      "text/plain": [
       "b'\\xb3\\x82\\x84\\x1c\\x0fYb\\x13\\xbdKX\\xf4\\xd7D\\x119'"
      ]
     },
     "execution_count": 7,
     "metadata": {},
     "output_type": "execute_result"
    }
   ],
   "source": [
    "cipher_text"
   ]
  },
  {
   "cell_type": "code",
   "execution_count": 8,
   "metadata": {},
   "outputs": [
    {
     "data": {
      "text/plain": [
       "b'PyCon 2017 Cypto'"
      ]
     },
     "execution_count": 8,
     "metadata": {},
     "output_type": "execute_result"
    }
   ],
   "source": [
    "decryptor = cipher.decryptor()\n",
    "decryptor.update(cipher_text) + decryptor.finalize()"
   ]
  },
  {
   "cell_type": "code",
   "execution_count": 9,
   "metadata": {},
   "outputs": [],
   "source": [
    "# CTR Mode, we don't need padding in CTR mode. In transforms a block cipher into a stream cipher\n",
    "# we only need to introduce the nonce\n",
    "cipher = Cipher(algorithms.AES(key), modes.CTR(os.urandom(16)), backend=default_backend())\n",
    "encryptor = cipher.encryptor()\n",
    "# len(b\"PyCon 2017 Cypto!!\") = 18, however no padding is needed.\n",
    "cipher_text = encryptor.update(b\"PyCon 2017 Cypto!!\") + encryptor.finalize()"
   ]
  },
  {
   "cell_type": "markdown",
   "metadata": {},
   "source": [
    "## *<font color=\" #6495ED\">Exercise</font>*\n",
    "\n",
    " - Encrypt the file following text using the ECB, and CBC or CTR mode and compare the results."
   ]
  },
  {
   "cell_type": "code",
   "execution_count": 10,
   "metadata": {},
   "outputs": [],
   "source": [
    "plain_text = b\"PyCon is great!!\" * 128"
   ]
  },
  {
   "cell_type": "code",
   "execution_count": 11,
   "metadata": {},
   "outputs": [],
   "source": [
    "def print_text(text, b64=False):\n",
    "    for i in range(0, 128, 16):\n",
    "        if b64:\n",
    "            pt = base64.b64encode(text[i:i+16])\n",
    "        else:\n",
    "            pt = text[i:i+16]\n",
    "        print (pt)"
   ]
  },
  {
   "cell_type": "code",
   "execution_count": null,
   "metadata": {
    "collapsed": true
   },
   "outputs": [],
   "source": [
    "## IMPLEMENTATION"
   ]
  },
  {
   "cell_type": "code",
   "execution_count": 15,
   "metadata": {},
   "outputs": [
    {
     "name": "stdout",
     "output_type": "stream",
     "text": [
      "b'\\x95\\x84\\xbd\\x17\\x1dM\\xf0\\x08\\x8a\\xf3\\xb6\\xd1r\\x01\\x9e\\x87'\n",
      "b'\\x95\\x84\\xbd\\x17\\x1dM\\xf0\\x08\\x8a\\xf3\\xb6\\xd1r\\x01\\x9e\\x87'\n",
      "b'\\x95\\x84\\xbd\\x17\\x1dM\\xf0\\x08\\x8a\\xf3\\xb6\\xd1r\\x01\\x9e\\x87'\n",
      "b'\\x95\\x84\\xbd\\x17\\x1dM\\xf0\\x08\\x8a\\xf3\\xb6\\xd1r\\x01\\x9e\\x87'\n",
      "b'\\x95\\x84\\xbd\\x17\\x1dM\\xf0\\x08\\x8a\\xf3\\xb6\\xd1r\\x01\\x9e\\x87'\n",
      "b'\\x95\\x84\\xbd\\x17\\x1dM\\xf0\\x08\\x8a\\xf3\\xb6\\xd1r\\x01\\x9e\\x87'\n",
      "b'\\x95\\x84\\xbd\\x17\\x1dM\\xf0\\x08\\x8a\\xf3\\xb6\\xd1r\\x01\\x9e\\x87'\n",
      "b'\\x95\\x84\\xbd\\x17\\x1dM\\xf0\\x08\\x8a\\xf3\\xb6\\xd1r\\x01\\x9e\\x87'\n"
     ]
    }
   ],
   "source": [
    "# ECB\n",
    "\n",
    "cipher = Cipher(algorithms.AES(key), modes.ECB(), backend=default_backend())\n",
    "encryptor = cipher.encryptor()\n",
    "cipher_text = encryptor.update(plain_text) + encryptor.finalize()\n",
    "print_text(cipher_text)"
   ]
  },
  {
   "cell_type": "code",
   "execution_count": 18,
   "metadata": {},
   "outputs": [
    {
     "name": "stdout",
     "output_type": "stream",
     "text": [
      "b'\\xc1W\\x8dv\\xa0w\\x9d\\xc2D\\x06\\xd2Ou-\\x8d\\xc2'\n",
      "b'\\x115NK\\xdf\\xca\\xdb\\x8fH\\x1d\\xdcb\\x88\\xf6\\x14g'\n",
      "b'\\x82{%#-o\\xed\\x88Y\\xaa\\xff\\x08K}&\\xa8'\n",
      "b'npaa\\xe4\\x96\\x88\\x1d4\\x95\\xa8x\\xde<\\xddV'\n",
      "b'\\xf2\\xf3D\\x16\\x17Fc9\\xa5\\x96\\xfd\\xa8\\x93)\\xc24'\n",
      "b'\\xf0\\x89\\xc4\\xec\\xbb\\xde\\xef~\\xd7\\x1eb\\x06\\x8aA\\xd2\\xb2'\n",
      "b')$\\x9fz\\xf7\\xe1o\\xb7\\x01\\x01R\\x82(\\xe5\\x8am'\n",
      "b'D\\xe4\\xa0\\xf2\\xb4^\\xce\\xb08z\\xcb\\xf2\\x81\\x83\\x13v'\n"
     ]
    }
   ],
   "source": [
    "# CBC\n",
    "\n",
    "cipher = Cipher(algorithms.AES(key), modes.CBC(iv), backend=default_backend())\n",
    "encryptor = cipher.encryptor()\n",
    "cipher_text = encryptor.update(plain_text) + encryptor.finalize()\n",
    "print_text(cipher_text)"
   ]
  },
  {
   "cell_type": "code",
   "execution_count": 19,
   "metadata": {},
   "outputs": [
    {
     "name": "stdout",
     "output_type": "stream",
     "text": [
      "b'\\xf9\\x80X\\xa1w\\xfa`\\xc7\\xb84\\xec\\xc8\\\\6\\xe3F'\n",
      "b'g\\x89\\xe6\\xe3\\x1fT5\\x11\\x8c\\x9b\\xeas\\xa0Z!\\x0f'\n",
      "b'\\x86?\\xc0\\xfe\\x98\\x13\\xf4-\\xf0\\xcb*^z\\xf0\\xd0\\xca'\n",
      "b'm;;\\x10\\xeb\\xc7\\x04f\\xab\\xa9\\x0c\\x98\\x7f\\xf3\\x11\\xdf'\n",
      "b'\\xc2\\xb2S.Zm\\xa9\\x04\\xc7\\xc0+|\\x88\\xdb\\xdfx'\n",
      "b'\\x15\\x00\\x94\\xc8\\x90\\x99-\\xfc5\\x86\\xc9DIs\\x8d\\x8c'\n",
      "b'\\x99\\x92R\\xf8\\x98L\\xa5\\xeb\\xa1\\th\\xba\\x8b\\xc4\\x99\\x8e'\n",
      "b'\\xd4\\x9d4\\xbb\\x1b\\xc4\\xf0\\xc2\\x17\\xc9#\\xda#w\\xe0\\xd7'\n"
     ]
    }
   ],
   "source": [
    "# CTR\n",
    "\n",
    "cipher = Cipher(algorithms.AES(key), modes.CTR(iv), backend=default_backend())\n",
    "encryptor = cipher.encryptor()\n",
    "cipher_text = encryptor.update(plain_text) + encryptor.finalize()\n",
    "print_text(cipher_text)"
   ]
  },
  {
   "cell_type": "markdown",
   "metadata": {},
   "source": [
    "## *<font color=\" #6495ED\">Extra Activity</font>*\n",
    "\n",
    "Encrypt the file \"include/tux.png\" using the ECB, and CBC or CTR mode and compare the results.\n",
    " - **You need to install the [pillow](https://python-pillow.org/) library**\n",
    "     - read the image file and get all the pixel values\n",
    "     - encrypt the pixel values\n",
    "     - create a new image with new (encrypted) pixel values\n",
    "     - write your newly crafted image to disk"
   ]
  },
  {
   "cell_type": "markdown",
   "metadata": {},
   "source": [
    "To install Pillow, simply use pip or conda:\n",
    "\n",
    "```bash\n",
    " pip install Pillow\n",
    " conda install pillow\n",
    "```"
   ]
  },
  {
   "cell_type": "markdown",
   "metadata": {
    "collapsed": true
   },
   "source": [
    "The origianl image from Wikipedia. <img src=\"include/tux.png\">"
   ]
  },
  {
   "cell_type": "markdown",
   "metadata": {},
   "source": [
    "<br>\n",
    "ECB Encryption of the image with two different keys. The results (colors) are different, because we are using two different keys. However, the patterns inside the data (image) is not hidden.\n",
    "<br>\n",
    "<br>\n",
    "\n",
    "<img src=\"include/ECB1.png\" width=\"200\" align=\"left\" > <img src=\"include/ECB2.png\", width=\"200\">"
   ]
  },
  {
   "cell_type": "markdown",
   "metadata": {},
   "source": [
    "<br>\n",
    "As compared to when we are using the CBC (or CTR) mode. Because we introduce the randomness at the beginning (IV), and we carry this randomness (noise) throughout the encryption the patterns are diminished.\n",
    "<br>\n",
    "<br>\n",
    "\n",
    "<img src=\"include/CBC1.png\" width = 200>"
   ]
  },
  {
   "cell_type": "markdown",
   "metadata": {},
   "source": [
    "## Encryption alone is not good enough\n",
    "\n",
    "Encrypting your data alone will not protect you from data tampering, meaning an adversary can change the results of your decryption without having access to the key -- all without you noticing. That's where HMACs discussed previously become handy."
   ]
  },
  {
   "cell_type": "markdown",
   "metadata": {},
   "source": [
    "### Bit flipping attack"
   ]
  },
  {
   "cell_type": "markdown",
   "metadata": {},
   "source": [
    "Since the IV is sent in clear we can change the IV value and change the corresponding plaintext, when using CBC mode.\n",
    "\n",
    "***Encryption***\n",
    "\n",
    " - $C_{i}=E_{K}(P_{i}\\oplus C_{i-1})$\n",
    " - $ C_{0}=IV$\n",
    "\n",
    "***Decryption***\n",
    " - $P_{i}=D_{K}(C_{i})\\oplus C_{i-1}$\n",
    " - $C_{0}=IV$\n",
    " \n",
    " \n",
    "Therefore to change the plaintext value we just need to xor the old plaintext(p), and the new value (t), with the IV:\n",
    "\n",
    "$IV = IV \\oplus p \\oplus t$\n",
    "\n",
    "Meaning if the first 4 bytes of the plaint text are: \"1234\" and we want to change it to \"6789\" all we have to do is\n",
    "\n",
    "$IV[0:4] = IV[0:4] \\oplus 1234 \\oplus 6789$"
   ]
  },
  {
   "cell_type": "markdown",
   "metadata": {},
   "source": [
    "## *<font color=\" #6495ED\">Exercise</font>*\n",
    "\n",
    " - Imagine the message is only 16 bytes, \"PyCon2017 Crypto\". Change the year from 2017 to 1991."
   ]
  },
  {
   "cell_type": "code",
   "execution_count": 20,
   "metadata": {},
   "outputs": [],
   "source": [
    "def xor(s1, s2):\n",
    "    return bytes([a ^ b for a,b in zip(s1,s2)])"
   ]
  },
  {
   "cell_type": "code",
   "execution_count": 21,
   "metadata": {},
   "outputs": [],
   "source": [
    "iv = os.urandom(16)\n",
    "cipher = Cipher(algorithms.AES(key), modes.CBC(iv), backend=default_backend())\n",
    "encryptor = cipher.encryptor()\n",
    "cipher_text = encryptor.update(b\"PyCon2017 Crypto\") + encryptor.finalize()"
   ]
  },
  {
   "cell_type": "code",
   "execution_count": 22,
   "metadata": {},
   "outputs": [
    {
     "data": {
      "text/plain": [
       "b'PyCon2017 Crypto'"
      ]
     },
     "execution_count": 22,
     "metadata": {},
     "output_type": "execute_result"
    }
   ],
   "source": [
    "cipher = Cipher(algorithms.AES(key), modes.CBC(iv), backend=default_backend())\n",
    "decryptor = cipher.decryptor()\n",
    "decryptor.update(cipher_text) + decryptor.finalize()"
   ]
  },
  {
   "cell_type": "code",
   "execution_count": 23,
   "metadata": {},
   "outputs": [],
   "source": [
    "## IMPLEMENTATION"
   ]
  },
  {
   "cell_type": "markdown",
   "metadata": {},
   "source": [
    "<br>"
   ]
  },
  {
   "cell_type": "markdown",
   "metadata": {
    "collapsed": true
   },
   "source": [
    "## Authenticated Encryption with Associated Data (AEAD)\n",
    "\n",
    "AEAD provides confidentiality, integrity, and authenticity at once. Such schemes help to mitigate against the bit flipping attacks that we just did. The Galois/Counter Mode (GCM) mode of operation is the recommended schemes to be used. Fortunately, the *cryptography* library already has it implemented."
   ]
  },
  {
   "cell_type": "code",
   "execution_count": 31,
   "metadata": {},
   "outputs": [],
   "source": [
    "# GCM Mode, we also need an IV\n",
    "cipher = Cipher(algorithms.AES(key), modes.GCM(iv), backend=default_backend())\n",
    "encryptor = cipher.encryptor()\n",
    "# note that we don't need padding here, since len(\"PyCon2017 Crypto\") = 16\n",
    "encryptor.authenticate_additional_data(b\"SOME ADDITIONAL DATA\")\n",
    "cipher_text = encryptor.update(b\"Snehil\") + encryptor.finalize()\n",
    "tag = encryptor.tag"
   ]
  },
  {
   "cell_type": "code",
   "execution_count": 32,
   "metadata": {},
   "outputs": [
    {
     "data": {
      "text/plain": [
       "b'Snehil'"
      ]
     },
     "execution_count": 32,
     "metadata": {},
     "output_type": "execute_result"
    }
   ],
   "source": [
    "decryptor = Cipher(algorithms.AES(key), modes.GCM(iv,tag), backend=default_backend()).decryptor()\n",
    "decryptor.authenticate_additional_data(b\"SOME ADDITIONAL DATA\")\n",
    "decryptor.update(cipher_text) + decryptor.finalize()"
   ]
  },
  {
   "cell_type": "markdown",
   "metadata": {
    "collapsed": true
   },
   "source": [
    "## Padding\n",
    "\n",
    "With some block cipher mode of operations (e.g., CBC) we need to pad the data to the block size. Otherwise, if would throw an exception."
   ]
  },
  {
   "cell_type": "code",
   "execution_count": 26,
   "metadata": {},
   "outputs": [],
   "source": [
    "import os\n",
    "from cryptography.hazmat.primitives.ciphers import Cipher, algorithms, modes\n",
    "from cryptography.hazmat.backends import default_backend\n",
    "key = os.urandom(16) # in bytes, 128 bits\n",
    "\n",
    "#CTR\n",
    "cipher = Cipher(algorithms.AES(key), modes.CTR(os.urandom(16)), backend=default_backend())\n",
    "encryptor = cipher.encryptor()\n",
    "# len(\"PyCon 2017 Cryptography\") = 23, but we don't need padding in CTR\n",
    "ctr_ct = encryptor.update(b\"PyCon 2017 Cryptography\") + encryptor.finalize()"
   ]
  },
  {
   "cell_type": "code",
   "execution_count": 27,
   "metadata": {},
   "outputs": [
    {
     "ename": "ValueError",
     "evalue": "The length of the provided data is not a multiple of the block length.",
     "output_type": "error",
     "traceback": [
      "\u001b[0;31m---------------------------------------------------------------------------\u001b[0m",
      "\u001b[0;31mValueError\u001b[0m                                Traceback (most recent call last)",
      "\u001b[0;32m<ipython-input-27-0b055b292e67>\u001b[0m in \u001b[0;36m<module>\u001b[0;34m\u001b[0m\n\u001b[1;32m      3\u001b[0m \u001b[0mencryptor\u001b[0m \u001b[0;34m=\u001b[0m \u001b[0mcipher\u001b[0m\u001b[0;34m.\u001b[0m\u001b[0mencryptor\u001b[0m\u001b[0;34m(\u001b[0m\u001b[0;34m)\u001b[0m\u001b[0;34m\u001b[0m\u001b[0;34m\u001b[0m\u001b[0m\n\u001b[1;32m      4\u001b[0m \u001b[0;31m# len(\"PyCon 2017 Cryptography\") = 23, throws an exception\u001b[0m\u001b[0;34m\u001b[0m\u001b[0;34m\u001b[0m\u001b[0;34m\u001b[0m\u001b[0m\n\u001b[0;32m----> 5\u001b[0;31m \u001b[0mcbc_ct\u001b[0m \u001b[0;34m=\u001b[0m \u001b[0mencryptor\u001b[0m\u001b[0;34m.\u001b[0m\u001b[0mupdate\u001b[0m\u001b[0;34m(\u001b[0m\u001b[0;34mb\"PyCon 2017 Cryptography\"\u001b[0m\u001b[0;34m)\u001b[0m \u001b[0;34m+\u001b[0m \u001b[0mencryptor\u001b[0m\u001b[0;34m.\u001b[0m\u001b[0mfinalize\u001b[0m\u001b[0;34m(\u001b[0m\u001b[0;34m)\u001b[0m\u001b[0;34m\u001b[0m\u001b[0;34m\u001b[0m\u001b[0m\n\u001b[0m",
      "\u001b[0;32m~/.local/lib/python3.8/site-packages/cryptography/hazmat/primitives/ciphers/base.py\u001b[0m in \u001b[0;36mfinalize\u001b[0;34m(self)\u001b[0m\n\u001b[1;32m    162\u001b[0m         \u001b[0;32mif\u001b[0m \u001b[0mself\u001b[0m\u001b[0;34m.\u001b[0m\u001b[0m_ctx\u001b[0m \u001b[0;32mis\u001b[0m \u001b[0;32mNone\u001b[0m\u001b[0;34m:\u001b[0m\u001b[0;34m\u001b[0m\u001b[0;34m\u001b[0m\u001b[0m\n\u001b[1;32m    163\u001b[0m             \u001b[0;32mraise\u001b[0m \u001b[0mAlreadyFinalized\u001b[0m\u001b[0;34m(\u001b[0m\u001b[0;34m\"Context was already finalized.\"\u001b[0m\u001b[0;34m)\u001b[0m\u001b[0;34m\u001b[0m\u001b[0;34m\u001b[0m\u001b[0m\n\u001b[0;32m--> 164\u001b[0;31m         \u001b[0mdata\u001b[0m \u001b[0;34m=\u001b[0m \u001b[0mself\u001b[0m\u001b[0;34m.\u001b[0m\u001b[0m_ctx\u001b[0m\u001b[0;34m.\u001b[0m\u001b[0mfinalize\u001b[0m\u001b[0;34m(\u001b[0m\u001b[0;34m)\u001b[0m\u001b[0;34m\u001b[0m\u001b[0;34m\u001b[0m\u001b[0m\n\u001b[0m\u001b[1;32m    165\u001b[0m         \u001b[0mself\u001b[0m\u001b[0;34m.\u001b[0m\u001b[0m_ctx\u001b[0m \u001b[0;34m=\u001b[0m \u001b[0;32mNone\u001b[0m\u001b[0;34m\u001b[0m\u001b[0;34m\u001b[0m\u001b[0m\n\u001b[1;32m    166\u001b[0m         \u001b[0;32mreturn\u001b[0m \u001b[0mdata\u001b[0m\u001b[0;34m\u001b[0m\u001b[0;34m\u001b[0m\u001b[0m\n",
      "\u001b[0;32m~/.local/lib/python3.8/site-packages/cryptography/hazmat/backends/openssl/ciphers.py\u001b[0m in \u001b[0;36mfinalize\u001b[0;34m(self)\u001b[0m\n\u001b[1;32m    179\u001b[0m                 \u001b[0merrors\u001b[0m\u001b[0;34m=\u001b[0m\u001b[0merrors\u001b[0m\u001b[0;34m,\u001b[0m\u001b[0;34m\u001b[0m\u001b[0;34m\u001b[0m\u001b[0m\n\u001b[1;32m    180\u001b[0m             )\n\u001b[0;32m--> 181\u001b[0;31m             raise ValueError(\n\u001b[0m\u001b[1;32m    182\u001b[0m                 \u001b[0;34m\"The length of the provided data is not a multiple of \"\u001b[0m\u001b[0;34m\u001b[0m\u001b[0;34m\u001b[0m\u001b[0m\n\u001b[1;32m    183\u001b[0m                 \u001b[0;34m\"the block length.\"\u001b[0m\u001b[0;34m\u001b[0m\u001b[0;34m\u001b[0m\u001b[0m\n",
      "\u001b[0;31mValueError\u001b[0m: The length of the provided data is not a multiple of the block length."
     ]
    }
   ],
   "source": [
    "#CBC\n",
    "cipher = Cipher(algorithms.AES(key), modes.CBC(os.urandom(16)), backend=default_backend())\n",
    "encryptor = cipher.encryptor()\n",
    "# len(\"PyCon 2017 Cryptography\") = 23, throws an exception\n",
    "cbc_ct = encryptor.update(b\"PyCon 2017 Cryptography\") + encryptor.finalize()"
   ]
  },
  {
   "cell_type": "markdown",
   "metadata": {},
   "source": [
    "### Public-Key Cryptography Standards (PKCS)\n",
    "\n",
    "PKCS7 padding is described in RFC 5652. The number of missing bytes (n) to the whole block size is repeated n times.\n",
    "\n",
    " - For example if the block size is 16,\n",
    "   - The data is of size 13, the data is padding with 3, 3 times. 03 03 03.\n",
    "   - The data is of size 14, the data is padded with 2, 2 times. 02 02\n"
   ]
  },
  {
   "cell_type": "code",
   "execution_count": 30,
   "metadata": {},
   "outputs": [
    {
     "name": "stdout",
     "output_type": "stream",
     "text": [
      "msg:  b'Snehil'\n",
      "padded data:  b'Snehil\\n\\n\\n\\n\\n\\n\\n\\n\\n\\n'\n"
     ]
    }
   ],
   "source": [
    "# padding\n",
    "\n",
    "from cryptography.hazmat.primitives import padding\n",
    "\n",
    "msg = b\"Snehil\"\n",
    "print(\"msg: \", msg)\n",
    "padder = padding.PKCS7(128).padder()\n",
    "padded_data = padder.update(msg)\n",
    "padded_data += padder.finalize()\n",
    "print(\"padded data: \" ,padded_data)"
   ]
  },
  {
   "cell_type": "code",
   "execution_count": null,
   "metadata": {},
   "outputs": [],
   "source": []
  }
 ],
 "metadata": {
  "kernelspec": {
   "display_name": "Python 3",
   "language": "python",
   "name": "python3"
  },
  "language_info": {
   "codemirror_mode": {
    "name": "ipython",
    "version": 3
   },
   "file_extension": ".py",
   "mimetype": "text/x-python",
   "name": "python",
   "nbconvert_exporter": "python",
   "pygments_lexer": "ipython3",
   "version": "3.8.5"
  }
 },
 "nbformat": 4,
 "nbformat_minor": 2
}
