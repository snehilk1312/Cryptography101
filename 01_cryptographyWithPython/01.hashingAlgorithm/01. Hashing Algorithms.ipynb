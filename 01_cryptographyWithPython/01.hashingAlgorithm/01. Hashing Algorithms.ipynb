{
 "cells": [
  {
   "cell_type": "markdown",
   "metadata": {},
   "source": [
    "# Hashing Algorithms"
   ]
  },
  {
   "cell_type": "markdown",
   "metadata": {},
   "source": [
    "The goal is to have a long message as input and produce an output which is much shorter called the hash or message digest. Furthermore, we want it to have certain properties.\n",
    "\n",
    "- **Input**: long message\n",
    "- **Output**: short fixed size block (called hash or message digest)\n",
    " \n",
    "*We want the same input always produces the same output (deterministic)*"
   ]
  },
  {
   "cell_type": "markdown",
   "metadata": {},
   "source": [
    "## *<font color=\" #6495ED\">Exercise</font>*\n",
    "\n",
    " - A *non* security related example of hash functions?\n",
    " - A security related example of hash functions?"
   ]
  },
  {
   "cell_type": "markdown",
   "metadata": {},
   "source": [
    "*** There is a difference between hash function and cryptographic hash functions ***"
   ]
  },
  {
   "cell_type": "markdown",
   "metadata": {},
   "source": [
    "### Desired properties\n",
    "  - Pre-image: Given a hash *h* it is computationally infeasible to find a message *m* that produces *h*\n",
    "  - Second preimage: Given message m, it is computationally infeasible to find a message m’, (m ≠ m’) such that, h(m) = h(m’)\n",
    "  - Collisions: It is computationally difficult to find any two messages m, m’ (m ≠ m’) such that, h(m) = h(m’)\n",
    "  \n",
    "\n",
    "**Examples**:\n",
    " - Recommended Hash Algorithm (SHA-2, SHA-3) by NIST\n",
    " - <strike>SHA-1</strike>: output 160 bits being phased out (shattered.io)\n",
    " - <strike>MD2, MD4, and MD5</strike> by Ron Rivest [RFC1319, 1320, 1321]\n",
    " \n",
    "<br> \n",
    "source: shattered.io\n",
    "<br>\n",
    "<img src=\"include/shattered.png\" width=\"550\">\n",
    "<img src=\"include/shattered_diagram.png\" width=\"700\">"
   ]
  },
  {
   "cell_type": "markdown",
   "metadata": {},
   "source": [
    "<br>"
   ]
  },
  {
   "cell_type": "markdown",
   "metadata": {},
   "source": [
    "### SHA Family\n",
    "\n",
    "Secure Hash Algorithm (SHA) family, is a series of hashing algorithms. Ranging from SHA-0 to SHA-3. SHA-0 should never be used, it's advised to move from SHA-1 to SHA-2. SHA-3 is the most recent version, published in 2015.\n",
    "\n",
    " * SHA-1: Digest size (160), Block size (512)\n",
    " * SHA-2: Digest size (224, 256, 384, or 512), Block size (512, 1024)\n",
    " * SHA-3: Digest size (224, 256, 384, 512), Block size (1600)"
   ]
  },
  {
   "cell_type": "code",
   "execution_count": 1,
   "metadata": {},
   "outputs": [],
   "source": [
    "from cryptography.hazmat.backends import default_backend\n",
    "from cryptography.hazmat.primitives import hashes\n",
    "import base64 # to produce human readable encoding of the bytes"
   ]
  },
  {
   "cell_type": "code",
   "execution_count": 3,
   "metadata": {},
   "outputs": [
    {
     "name": "stdout",
     "output_type": "stream",
     "text": [
      "<cryptography.hazmat.primitives.hashes.Hash object at 0x7f902c4f6850>\n"
     ]
    }
   ],
   "source": [
    "digest = hashes.Hash(hashes.SHA256(), backend=default_backend())\n",
    "print(digest)"
   ]
  },
  {
   "cell_type": "code",
   "execution_count": 4,
   "metadata": {},
   "outputs": [],
   "source": [
    "digest.update(b\"Snehil\")\n",
    "digest.update(b\"kumar\")"
   ]
  },
  {
   "cell_type": "code",
   "execution_count": 5,
   "metadata": {},
   "outputs": [],
   "source": [
    "msg_digest = digest.finalize()"
   ]
  },
  {
   "cell_type": "code",
   "execution_count": 10,
   "metadata": {},
   "outputs": [
    {
     "name": "stdout",
     "output_type": "stream",
     "text": [
      "b'z\\x97L_u\\xdf\\xa3\\xc1.#;\\x00<\\xf9\\x85\\xcdct\"\\xe5\\x94\\xf3\\x972\\x1b\\xe4Q\\xa2\\x02\\x0b\\xe7\\x83' 32\n",
      "base64 encoding: b'epdMX3Xfo8EuIzsAPPmFzWN0IuWU85cyG+RRogIL54M='\n",
      "epdMX3Xfo8EuIzsAPPmFzWN0IuWU85cyG+RRogIL54M=\n"
     ]
    }
   ],
   "source": [
    "print(msg_digest, len(msg_digest))\n",
    "print(\"base64 encoding:\",base64.b64encode(msg_digest))\n",
    "print(base64.b64encode(msg_digest).decode())"
   ]
  },
  {
   "cell_type": "code",
   "execution_count": 11,
   "metadata": {},
   "outputs": [
    {
     "name": "stdout",
     "output_type": "stream",
     "text": [
      "b'z\\x97L_u\\xdf\\xa3\\xc1.#;\\x00<\\xf9\\x85\\xcdct\"\\xe5\\x94\\xf3\\x972\\x1b\\xe4Q\\xa2\\x02\\x0b\\xe7\\x83' 32\n",
      "b'epdMX3Xfo8EuIzsAPPmFzWN0IuWU85cyG+RRogIL54M='\n"
     ]
    }
   ],
   "source": [
    "digest = hashes.Hash(hashes.SHA256(), backend=default_backend())\n",
    "digest.update(b\"Snehilkumar\")\n",
    "msg_digest = digest.finalize()\n",
    "print(msg_digest, len(msg_digest))\n",
    "print(base64.b64encode(msg_digest))"
   ]
  },
  {
   "cell_type": "code",
   "execution_count": 12,
   "metadata": {},
   "outputs": [
    {
     "name": "stdout",
     "output_type": "stream",
     "text": [
      "b'\\xf0\\x85\\xc4\\xfa\\xe8onB\\xb2\\x97\\xe3\\xbdD\\x98\\nV\\xda\\xba\\xba:\\xd1H\\xdd\\xe0\\x80\\xccM\\xb9\\xd2t\\x83\\xe8' 32\n",
      "b'8IXE+uhvbkKyl+O9RJgKVtq6ujrRSN3ggMxNudJ0g+g='\n"
     ]
    }
   ],
   "source": [
    "digest = hashes.Hash(hashes.SHA256(), backend=default_backend())\n",
    "digest.update(b\"SnehilKumar\")\n",
    "msg_digest = digest.finalize()\n",
    "print(msg_digest, len(msg_digest))\n",
    "print(base64.b64encode(msg_digest))"
   ]
  },
  {
   "cell_type": "markdown",
   "metadata": {},
   "source": [
    "## *<font color=\" #6495ED\">Exercise</font> *\n",
    "\n",
    " - Let's explore what other hashing algorithms are available and use a different one."
   ]
  },
  {
   "cell_type": "markdown",
   "metadata": {},
   "source": [
    "### Python Builtin Support"
   ]
  },
  {
   "cell_type": "markdown",
   "metadata": {},
   "source": [
    "*\"Additional algorithms may also be available depending upon the OpenSSL library that Python uses on your platform. On most platforms the sha3_224(), sha3_256(), sha3_384(), sha3_512(), shake_128(), shake_256() are also available.\"*\n",
    "\n",
    "source: https://docs.python.org/3/library/hashlib.html"
   ]
  },
  {
   "cell_type": "code",
   "execution_count": 15,
   "metadata": {},
   "outputs": [
    {
     "name": "stdout",
     "output_type": "stream",
     "text": [
      "msg_digest: 32 256\n",
      "base64 encoding: b'epdMX3Xfo8EuIzsAPPmFzWN0IuWU85cyG+RRogIL54M='\n"
     ]
    }
   ],
   "source": [
    "import hashlib\n",
    "sha256 = hashlib.sha256() # uses sha-2\n",
    "sha256.update(b\"Snehilkumar\")\n",
    "\n",
    "msg_digest = sha256.digest()\n",
    "# Notice the output size of the digest\n",
    "print (\"msg_digest:\", len(msg_digest), len(msg_digest) * 8)\n",
    "print (\"base64 encoding:\", base64.b64encode(msg_digest))"
   ]
  },
  {
   "cell_type": "markdown",
   "metadata": {},
   "source": [
    "## *<font color=\" #6495ED\">Exercise</font> *\n",
    "\n",
    " - Let's see what other hashing algorithms our python supports."
   ]
  },
  {
   "cell_type": "code",
   "execution_count": 16,
   "metadata": {},
   "outputs": [
    {
     "name": "stdout",
     "output_type": "stream",
     "text": [
      "msg_digest: 32 256\n",
      "base64 encoding: b'2t8osT68BoT5k2rRPrdneIZaLVgsH1K2I0PXf3WgIWQ='\n"
     ]
    }
   ],
   "source": [
    "sha256 = hashlib.sha3_256()  # uses sha-3\n",
    "sha256.update(b\"Snehilkumar\")\n",
    "\n",
    "msg_digest = sha256.digest()\n",
    "# Notice the output size of the digest\n",
    "print (\"msg_digest:\", len(msg_digest), len(msg_digest) * 8)\n",
    "print (\"base64 encoding:\", base64.b64encode(msg_digest))"
   ]
  },
  {
   "cell_type": "markdown",
   "metadata": {},
   "source": [
    "### Hash-based message authentication code (HMAC)\n",
    "\n",
    "HMACs are used for message authentications combined with a secret key. This provide integrity checking and authentication. An attacker can not forge the digest without knowing the secret key.\n",
    "\n",
    "<img src=\"include/SHAhmac.png\" width=\"600\">\n",
    "\n",
    "image source: wikipedia"
   ]
  },
  {
   "cell_type": "markdown",
   "metadata": {},
   "source": [
    "$ HMAC(K,m) = H((K\\oplus opad) || H((K \\oplus ipad) || m))$"
   ]
  },
  {
   "cell_type": "markdown",
   "metadata": {},
   "source": [
    "### HMAC Calculation"
   ]
  },
  {
   "cell_type": "code",
   "execution_count": 17,
   "metadata": {},
   "outputs": [
    {
     "name": "stdout",
     "output_type": "stream",
     "text": [
      "b'OlnsfaVL9TLNeVRaEugROHE6G8Po8uYs2jD3/MAFS0Y='\n"
     ]
    }
   ],
   "source": [
    "from cryptography.hazmat.backends import default_backend\n",
    "from cryptography.hazmat.primitives import hmac, hashes\n",
    "import os\n",
    "import base64\n",
    "\n",
    "hmc_key = k = os.urandom(16)\n",
    "hmc = hmac.HMAC(hmc_key, hashes.SHA256(), default_backend())\n",
    "hmc.update(b\"Snehil\")\n",
    "hmc_sig = hmc.finalize()\n",
    "print (base64.b64encode(hmc_sig))"
   ]
  },
  {
   "cell_type": "markdown",
   "metadata": {},
   "source": [
    "### HMAC Verification"
   ]
  },
  {
   "cell_type": "code",
   "execution_count": 22,
   "metadata": {},
   "outputs": [],
   "source": [
    "# Verification Successufl\n",
    "hmc = hmac.HMAC(hmc_key, hashes.SHA256(), default_backend())\n",
    "hmc.update(b\"Snehil\")\n",
    "hmc.verify(hmc_sig)"
   ]
  },
  {
   "cell_type": "code",
   "execution_count": 27,
   "metadata": {},
   "outputs": [
    {
     "ename": "InvalidSignature",
     "evalue": "Signature did not match digest.",
     "output_type": "error",
     "traceback": [
      "\u001b[0;31m---------------------------------------------------------------------------\u001b[0m",
      "\u001b[0;31mInvalidSignature\u001b[0m                          Traceback (most recent call last)",
      "\u001b[0;32m<ipython-input-27-c3f1e52f5283>\u001b[0m in \u001b[0;36m<module>\u001b[0;34m\u001b[0m\n\u001b[1;32m      2\u001b[0m \u001b[0mhmc\u001b[0m \u001b[0;34m=\u001b[0m \u001b[0mhmac\u001b[0m\u001b[0;34m.\u001b[0m\u001b[0mHMAC\u001b[0m\u001b[0;34m(\u001b[0m\u001b[0mhmc_key\u001b[0m\u001b[0;34m,\u001b[0m \u001b[0mhashes\u001b[0m\u001b[0;34m.\u001b[0m\u001b[0mSHA256\u001b[0m\u001b[0;34m(\u001b[0m\u001b[0;34m)\u001b[0m\u001b[0;34m,\u001b[0m \u001b[0mdefault_backend\u001b[0m\u001b[0;34m(\u001b[0m\u001b[0;34m)\u001b[0m\u001b[0;34m)\u001b[0m\u001b[0;34m\u001b[0m\u001b[0;34m\u001b[0m\u001b[0m\n\u001b[1;32m      3\u001b[0m \u001b[0mhmc\u001b[0m\u001b[0;34m.\u001b[0m\u001b[0mupdate\u001b[0m\u001b[0;34m(\u001b[0m\u001b[0;34mb\"Snehil\"\u001b[0m\u001b[0;34m)\u001b[0m\u001b[0;34m\u001b[0m\u001b[0;34m\u001b[0m\u001b[0m\n\u001b[0;32m----> 4\u001b[0;31m \u001b[0mhmc\u001b[0m\u001b[0;34m.\u001b[0m\u001b[0mverify\u001b[0m\u001b[0;34m(\u001b[0m\u001b[0mhmc_sig\u001b[0m\u001b[0;34m+\u001b[0m\u001b[0;34mb\"1\"\u001b[0m\u001b[0;34m)\u001b[0m\u001b[0;34m\u001b[0m\u001b[0;34m\u001b[0m\u001b[0m\n\u001b[0m",
      "\u001b[0;32m~/.local/lib/python3.8/site-packages/cryptography/hazmat/primitives/hmac.py\u001b[0m in \u001b[0;36mverify\u001b[0;34m(self, signature)\u001b[0m\n\u001b[1;32m     68\u001b[0m \u001b[0;34m\u001b[0m\u001b[0m\n\u001b[1;32m     69\u001b[0m         \u001b[0mctx\u001b[0m\u001b[0;34m,\u001b[0m \u001b[0mself\u001b[0m\u001b[0;34m.\u001b[0m\u001b[0m_ctx\u001b[0m \u001b[0;34m=\u001b[0m \u001b[0mself\u001b[0m\u001b[0;34m.\u001b[0m\u001b[0m_ctx\u001b[0m\u001b[0;34m,\u001b[0m \u001b[0;32mNone\u001b[0m\u001b[0;34m\u001b[0m\u001b[0;34m\u001b[0m\u001b[0m\n\u001b[0;32m---> 70\u001b[0;31m         \u001b[0mctx\u001b[0m\u001b[0;34m.\u001b[0m\u001b[0mverify\u001b[0m\u001b[0;34m(\u001b[0m\u001b[0msignature\u001b[0m\u001b[0;34m)\u001b[0m\u001b[0;34m\u001b[0m\u001b[0;34m\u001b[0m\u001b[0m\n\u001b[0m",
      "\u001b[0;32m~/.local/lib/python3.8/site-packages/cryptography/hazmat/backends/openssl/hmac.py\u001b[0m in \u001b[0;36mverify\u001b[0;34m(self, signature)\u001b[0m\n\u001b[1;32m     74\u001b[0m         \u001b[0mdigest\u001b[0m \u001b[0;34m=\u001b[0m \u001b[0mself\u001b[0m\u001b[0;34m.\u001b[0m\u001b[0mfinalize\u001b[0m\u001b[0;34m(\u001b[0m\u001b[0;34m)\u001b[0m\u001b[0;34m\u001b[0m\u001b[0;34m\u001b[0m\u001b[0m\n\u001b[1;32m     75\u001b[0m         \u001b[0;32mif\u001b[0m \u001b[0;32mnot\u001b[0m \u001b[0mconstant_time\u001b[0m\u001b[0;34m.\u001b[0m\u001b[0mbytes_eq\u001b[0m\u001b[0;34m(\u001b[0m\u001b[0mdigest\u001b[0m\u001b[0;34m,\u001b[0m \u001b[0msignature\u001b[0m\u001b[0;34m)\u001b[0m\u001b[0;34m:\u001b[0m\u001b[0;34m\u001b[0m\u001b[0;34m\u001b[0m\u001b[0m\n\u001b[0;32m---> 76\u001b[0;31m             \u001b[0;32mraise\u001b[0m \u001b[0mInvalidSignature\u001b[0m\u001b[0;34m(\u001b[0m\u001b[0;34m\"Signature did not match digest.\"\u001b[0m\u001b[0;34m)\u001b[0m\u001b[0;34m\u001b[0m\u001b[0;34m\u001b[0m\u001b[0m\n\u001b[0m",
      "\u001b[0;31mInvalidSignature\u001b[0m: Signature did not match digest."
     ]
    }
   ],
   "source": [
    "# Verification Fails\n",
    "hmc = hmac.HMAC(hmc_key, hashes.SHA256(), default_backend())\n",
    "hmc.update(b\"Snehil\")\n",
    "hmc.verify(hmc_sig+b\"1\")"
   ]
  },
  {
   "cell_type": "code",
   "execution_count": null,
   "metadata": {},
   "outputs": [],
   "source": []
  }
 ],
 "metadata": {
  "kernelspec": {
   "display_name": "Python 3",
   "language": "python",
   "name": "python3"
  },
  "language_info": {
   "codemirror_mode": {
    "name": "ipython",
    "version": 3
   },
   "file_extension": ".py",
   "mimetype": "text/x-python",
   "name": "python",
   "nbconvert_exporter": "python",
   "pygments_lexer": "ipython3",
   "version": "3.8.5"
  }
 },
 "nbformat": 4,
 "nbformat_minor": 2
}
