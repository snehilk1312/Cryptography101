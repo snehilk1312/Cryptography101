{
 "cells": [
  {
   "cell_type": "markdown",
   "metadata": {},
   "source": [
    "## Generating Assymetric Key for encrypting symmetric key"
   ]
  },
  {
   "cell_type": "markdown",
   "metadata": {},
   "source": [
    "### Private Key"
   ]
  },
  {
   "cell_type": "code",
   "execution_count": 8,
   "metadata": {},
   "outputs": [
    {
     "name": "stdout",
     "output_type": "stream",
     "text": [
      "Generating RSA private key, 4096 bit long modulus (2 primes)\n",
      ".........................................................................................................................................................................++++\n",
      "................................................................................................................................................................++++\n",
      "e is 65537 (0x010001)\n"
     ]
    }
   ],
   "source": [
    "# generate a private key with the correct length, to be kept secret\n",
    "openssl genrsa -out private-key.pem 4096"
   ]
  },
  {
   "cell_type": "markdown",
   "metadata": {},
   "source": [
    "### Public Key"
   ]
  },
  {
   "cell_type": "code",
   "execution_count": 9,
   "metadata": {},
   "outputs": [
    {
     "name": "stdout",
     "output_type": "stream",
     "text": [
      "writing RSA key\n"
     ]
    }
   ],
   "source": [
    "# generate corresponding public key, to be shared i.e public\n",
    "openssl rsa -in private-key.pem -pubout -out public-key.pem"
   ]
  },
  {
   "cell_type": "code",
   "execution_count": 17,
   "metadata": {},
   "outputs": [
    {
     "name": "stdout",
     "output_type": "stream",
     "text": [
      "-----BEGIN PUBLIC KEY-----\n",
      "MIICIjANBgkqhkiG9w0BAQEFAAOCAg8AMIICCgKCAgEAqJ2w3PKI1uMXhb3V/dcY\n",
      "zNS3Mrdz+T6d37qglNTZWvkU6AZbGJNBV5clOCPpvuOHggs3eErMyf2jr5Ar7m5l\n",
      "Z36wSN1aFSZxuwJcUqTt+WiasygOyu8azuuCCxK8v7rTVqVCF3Lz39/d6KJFgycT\n",
      "z4yQ4sSRQxjA+crU6Yi4aZy3zaKTEEhv23PXVq8EhcNrGepkR6KI7zo1uVf2omO7\n",
      "sz3kcsEnuKmzu/Ced0mrDow5wfTzoqCrI80Iia8iFOnroS5QLU+6zTlB3kLT1cJd\n",
      "yxH1FKHVPkfsZMvR61JuaHfXPvUpeDAaEj2l3dWYHhkmpUcGSeblGmA2maJnuDZx\n",
      "O8PgzlM3KFY0dEYCW4UzdYLafyJGg/+D8kEzBDqmjg0Fq1HHxcp7rRpLJuSHo6vs\n",
      "Czx/oqs22S3gLTF8UG0WC5HyiyReAFyTJ0/zNAAq3Tj+eUtTuJ9TmBBBmPrjXYBj\n",
      "YOL9cYZUlxEEPYd1e59rmvkFUts46XLwWjHX/ILpDmcO/Yw7S//ghTuk/fg9+dH0\n",
      "8OcI1iLFGOuV1lzPzPYER4GVBbFH+alLsySpGxZM5w0ZkyL8kfdKh/dEMKWQxk6d\n",
      "srJT3AQjYkVfQ4FeOJk/ST3sqe00rybFL5hCbmDwTVqBo7pXYk1DUMEYWhy7QsAG\n",
      "Z5NBehI+lyYgEKcsLMMcl9kCAwEAAQ==\n",
      "-----END PUBLIC KEY-----\n"
     ]
    }
   ],
   "source": [
    "cat public-key.pem"
   ]
  },
  {
   "cell_type": "markdown",
   "metadata": {},
   "source": [
    "### create a self-signed certificate"
   ]
  },
  {
   "cell_type": "markdown",
   "metadata": {},
   "source": [
    "##### Now that you have a private key, you can use it to generate a self-signed certificate. This is not required, but it allows you to use the key for server/client authentication, or gain X509 specific functionality in technologies such as JWT and SAML. "
   ]
  },
  {
   "cell_type": "code",
   "execution_count": 14,
   "metadata": {},
   "outputs": [
    {
     "name": "stdout",
     "output_type": "stream",
     "text": [
      "You are about to be asked to enter information that will be incorporated\n",
      "into your certificate request.\n",
      "What you are about to enter is what is called a Distinguished Name or a DN.\n",
      "There are quite a few fields but you can leave some blank\n",
      "For some fields there will be a default value,\n",
      "If you enter '.', the field will be left blank.\n",
      "-----\n",
      "Country Name (2 letter code) [AU]:\n"
     ]
    }
   ],
   "source": [
    "# optional: create a self-signed certificate\n",
    "openssl req -new -x509 -key private-key.pem -out cert.pem -days 360"
   ]
  },
  {
   "cell_type": "code",
   "execution_count": 15,
   "metadata": {},
   "outputs": [
    {
     "name": "stdout",
     "output_type": "stream",
     "text": [
      "Enter Export Password:\r\n",
      "Can't read Password\r\n"
     ]
    }
   ],
   "source": [
    "# optional: convert pem to pfx\n",
    "openssl pkcs12 -export -inkey private-key.pem -in cert.pem -out cert.pfx"
   ]
  },
  {
   "cell_type": "markdown",
   "metadata": {},
   "source": [
    "## Generating Symmetric key to encrypt our message or file"
   ]
  },
  {
   "cell_type": "code",
   "execution_count": 19,
   "metadata": {},
   "outputs": [],
   "source": [
    "openssl rand -base64 32 > key.bin    # to be secret"
   ]
  },
  {
   "cell_type": "markdown",
   "metadata": {},
   "source": [
    "### now we will send this symmetric key \"key.bin\" to the person , encrypting with his public key(let's say the public key we created in above section is his, i.e he send us)"
   ]
  },
  {
   "cell_type": "code",
   "execution_count": 20,
   "metadata": {},
   "outputs": [],
   "source": [
    "openssl rsautl -encrypt -inkey public-key.pem -pubin -in key.bin -out key.bin.enc"
   ]
  },
  {
   "cell_type": "code",
   "execution_count": 21,
   "metadata": {},
   "outputs": [
    {
     "name": "stdout",
     "output_type": "stream",
     "text": [
      "lx^�z�\u0000?Q䚹k�[[U`�bu����\u001e",
      "֔���\u000b",
      "E.[c��3\u001b���\u0015��M\u0012{�����W��z�_]��J�@��Q&���L<�\u001c",
      "f��G\u001c",
      "7iyS�\u0019kJş�'â�Ib�F��\n",
      "�\u001a!\u0003���/R�~\\��5Q\tQ���f(7M�\u0011�W��z\u001d",
      "�E,�\"�U[UJ�s+X謁#�N��*}S\\8�]�)�b^��� ��pɝ\u00070餼��Jer��\u0017\u001a�g \u0019��9���!�<�^�m�l�ԛ�D\u001c",
      "���j����h�׺@q\u0003X���\u0015�J�[Ӑ�k+ʦ3؉Q�#�\u001bR���-���y���O��n\u0006T;�\u000f�+qcJ�\n",
      "O� \u000b",
      "5�e\u000e\u0006��\f",
      "���\u001a�G`5>\u000b",
      "�x�̎}\u0012ya�\u0007$o�YS\u0004\u0015�N\u0000�����\u00145�BiC\u0019�-\f",
      "����\u0018\u00048{l,�����xv��Sӭ\u001c",
      "U%�m�O\n",
      "�DJe��\u0002\n",
      "�>�\u0016�]�3w\u001b����\"�\u0006�^�ܟ�`�\u0012�\u0014Œ}\u0005\u001f\t\u000b",
      "B�"
     ]
    }
   ],
   "source": [
    "cat key.bin.enc"
   ]
  },
  {
   "cell_type": "markdown",
   "metadata": {},
   "source": [
    "##### so the file key.bin.enc is the encrypted format of our file key.bin , when this file is sent over an unsecure channel like email , the receiver whose public key we have used to encrypt our symmetric key can use his private_key like as follows to get the secret symmetric key :)"
   ]
  },
  {
   "cell_type": "markdown",
   "metadata": {},
   "source": [
    "## Decrypting Symmetric Key(receiver does with their private key)"
   ]
  },
  {
   "cell_type": "code",
   "execution_count": 22,
   "metadata": {},
   "outputs": [],
   "source": [
    "openssl rsautl -decrypt -inkey private-key.pem -in key.bin.enc -out key.bin"
   ]
  },
  {
   "cell_type": "markdown",
   "metadata": {},
   "source": [
    "##### Now the receiver has the symmetric key, we can encrypt a msg using this symmetric key and he can open the same coz he has same symmetric key"
   ]
  },
  {
   "cell_type": "markdown",
   "metadata": {},
   "source": [
    "## Actually Encrypt our large file"
   ]
  },
  {
   "cell_type": "code",
   "execution_count": 82,
   "metadata": {},
   "outputs": [],
   "source": [
    "# Creating a secret file to encrypt\n",
    "echo \"I am Voldemort\" > SECRET_FILE"
   ]
  },
  {
   "cell_type": "code",
   "execution_count": 83,
   "metadata": {},
   "outputs": [],
   "source": [
    "# we can also se without -base64 flag\n",
    "openssl enc -aes-256-cbc -md sha512 -pbkdf2 -base64 -iter 100000  -salt -in SECRET_FILE -out SECRET_FILE.enc -pass file:./key.bin"
   ]
  },
  {
   "cell_type": "code",
   "execution_count": 84,
   "metadata": {},
   "outputs": [
    {
     "name": "stdout",
     "output_type": "stream",
     "text": [
      "U2FsdGVkX1/MLfV34Pq3k61zx7OK8nkUkgT31OLrZdU=\n"
     ]
    }
   ],
   "source": [
    "cat SECRET_FILE.enc"
   ]
  },
  {
   "cell_type": "markdown",
   "metadata": {},
   "source": [
    "## Decrypt the large file  , to be done by other person"
   ]
  },
  {
   "cell_type": "code",
   "execution_count": 85,
   "metadata": {},
   "outputs": [
    {
     "name": "stdout",
     "output_type": "stream",
     "text": [
      "I am Voldemort\n"
     ]
    }
   ],
   "source": [
    "# if we would have remove -base64 flag in encryption then no need here too\n",
    "openssl enc -aes-256-cbc -md sha512 -pbkdf2 -base64 -iter 100000 -salt -d -in SECRET_FILE.enc -pass file:./key.bin"
   ]
  },
  {
   "cell_type": "markdown",
   "metadata": {},
   "source": [
    "##### references:\n",
    "https://web.archive.org/web/20210217025411/https://www.czeskis.com/random/openssl-encrypt-file.html\n",
    "\n",
    "https://www.scottbrady91.com/OpenSSL/Creating-RSA-Keys-using-OpenSSL\n",
    "\n",
    "https://askubuntu.com/questions/1093591/how-should-i-change-encryption-according-to-warning-deprecated-key-derivat"
   ]
  },
  {
   "cell_type": "code",
   "execution_count": null,
   "metadata": {},
   "outputs": [],
   "source": []
  }
 ],
 "metadata": {
  "kernelspec": {
   "display_name": "Bash",
   "language": "bash",
   "name": "bash"
  },
  "language_info": {
   "codemirror_mode": "shell",
   "file_extension": ".sh",
   "mimetype": "text/x-sh",
   "name": "bash"
  }
 },
 "nbformat": 4,
 "nbformat_minor": 4
}
